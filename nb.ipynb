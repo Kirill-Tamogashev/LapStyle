{
 "cells": [
  {
   "cell_type": "code",
   "execution_count": 2,
   "metadata": {},
   "outputs": [],
   "source": [
    "%load_ext autoreload\n",
    "import torch\n",
    "import torch.nn as nn\n",
    "\n",
    "import torch.nn.functional as F\n",
    "\n",
    "import torchvision.models as models\n",
    "from torchvision.models._utils import IntermediateLayerGetter"
   ]
  },
  {
   "cell_type": "code",
   "execution_count": 5,
   "metadata": {},
   "outputs": [],
   "source": [
    "vgg19 = models.vgg19(pretrained=True).features\n",
    "# vgg19 "
   ]
  },
  {
   "cell_type": "code",
   "execution_count": 49,
   "metadata": {},
   "outputs": [],
   "source": [
    "a = torch.randn(5, 32, 512, 512)\n",
    "b = torch.randn(5, 32, 512, 512)"
   ]
  },
  {
   "cell_type": "code",
   "execution_count": 94,
   "metadata": {},
   "outputs": [],
   "source": [
    "a1 = torch.randn(5, 3, 512, 512)\n",
    "a2 = torch.randn(5, 3, 512, 512)\n",
    "b1 = torch.randn(5, 3, 512, 512)\n",
    "b2 = torch.randn(5, 3, 512, 512)\n"
   ]
  },
  {
   "cell_type": "code",
   "execution_count": 90,
   "metadata": {},
   "outputs": [],
   "source": [
    "%autoreload 2\n",
    "from src.model.drafting_network import DraftingNetwork\n",
    "from src.model.revision_network import RevisionNetwork\n",
    "from src.model.descriminator import Descriminator\n",
    "\n",
    "from src.training.losses import LapStyleLoss"
   ]
  },
  {
   "cell_type": "code",
   "execution_count": 91,
   "metadata": {},
   "outputs": [],
   "source": [
    "a = torch.randn(5, 3, 256, 256)\n",
    "b = torch.randn(5, 3, 256, 256)\n",
    "c = torch.randn(5, 3, 256, 256)\n",
    "\n",
    "ls_loss = LapStyleLoss()"
   ]
  },
  {
   "cell_type": "code",
   "execution_count": 92,
   "metadata": {},
   "outputs": [],
   "source": [
    "loss = ls_loss(a, b, c)"
   ]
  },
  {
   "cell_type": "code",
   "execution_count": 93,
   "metadata": {},
   "outputs": [
    {
     "data": {
      "text/plain": [
       "tensor(9.1782e+08)"
      ]
     },
     "execution_count": 93,
     "metadata": {},
     "output_type": "execute_result"
    }
   ],
   "source": [
    "loss"
   ]
  },
  {
   "cell_type": "code",
   "execution_count": 87,
   "metadata": {},
   "outputs": [
    {
     "data": {
      "text/plain": [
       "torch.Size([5, 3, 256, 256])"
      ]
     },
     "execution_count": 87,
     "metadata": {},
     "output_type": "execute_result"
    }
   ],
   "source": [
    "draft = DraftingNetwork()\n",
    "out = draft(a, b)\n",
    "out.shape"
   ]
  },
  {
   "cell_type": "code",
   "execution_count": 88,
   "metadata": {},
   "outputs": [
    {
     "data": {
      "text/plain": [
       "torch.Size([5, 3, 512, 512])"
      ]
     },
     "execution_count": 88,
     "metadata": {},
     "output_type": "execute_result"
    }
   ],
   "source": [
    "a = torch.randn(5, 3, 512, 512)\n",
    "b = torch.randn(5, 3, 512, 512)\n",
    "\n",
    "rev = RevisionNetwork()\n",
    "out = rev(a, b)\n",
    "out.shape"
   ]
  },
  {
   "cell_type": "code",
   "execution_count": 95,
   "metadata": {},
   "outputs": [],
   "source": [
    "desc = Descriminator()"
   ]
  },
  {
   "cell_type": "code",
   "execution_count": 20,
   "metadata": {},
   "outputs": [],
   "source": [
    "%autoreload 2\n",
    "from src.model.lapstyle import LapStyle"
   ]
  },
  {
   "cell_type": "code",
   "execution_count": 21,
   "metadata": {},
   "outputs": [],
   "source": [
    "style = torch.randn(32, 3, 256, 256)\n",
    "content = torch.randn(32, 3, 512, 512)"
   ]
  },
  {
   "cell_type": "markdown",
   "metadata": {},
   "source": []
  },
  {
   "cell_type": "code",
   "execution_count": 22,
   "metadata": {},
   "outputs": [],
   "source": [
    "ls = LapStyle()"
   ]
  },
  {
   "cell_type": "code",
   "execution_count": 23,
   "metadata": {},
   "outputs": [],
   "source": [
    "out = ls(content, style) "
   ]
  },
  {
   "cell_type": "code",
   "execution_count": null,
   "metadata": {},
   "outputs": [],
   "source": [
    "def infer(revision_net, drafting_net,, style, content):\n",
    "    \n",
    "    revision_net.eval()\n",
    "    drafting_net.eval()\n",
    "\n",
    "    \n",
    "    style_down = F.interpolate(\n",
    "        style, \n",
    "        [style.shape[2] // 2, style.shape[3] // 2],\n",
    "        mode=\"bilinear\", align_corners=False\n",
    "    )\n",
    "    content_down = F.interpolate(\n",
    "        content, \n",
    "        [content.shape[2] // 2, content.shape[3] // 2],\n",
    "        mode=\"bilinear\", align_corners=False\n",
    "    )\n",
    "    \n",
    "    contur = laplacian(content)\n",
    "    draft = self.drafting_net(content_down, style)\n",
    "    upsampled_draft = F.interpolate(draft, scale_factor=2)\n",
    "\n",
    "    revised = self.revision_net(upsampled_draft, contur)\n",
    "    return self.agregate(revised, draft)\n",
    "    "
   ]
  },
  {
   "cell_type": "code",
   "execution_count": null,
   "metadata": {},
   "outputs": [],
   "source": []
  }
 ],
 "metadata": {
  "interpreter": {
   "hash": "3414c9033cfeb09bbc483e6a0bc6224806bb308a4b495d2db57b0fe62d598b69"
  },
  "kernelspec": {
   "display_name": "Python 3.9.7 ('lapstyle')",
   "language": "python",
   "name": "python3"
  },
  "language_info": {
   "codemirror_mode": {
    "name": "ipython",
    "version": 3
   },
   "file_extension": ".py",
   "mimetype": "text/x-python",
   "name": "python",
   "nbconvert_exporter": "python",
   "pygments_lexer": "ipython3",
   "version": "3.9.7"
  },
  "orig_nbformat": 4
 },
 "nbformat": 4,
 "nbformat_minor": 2
}
